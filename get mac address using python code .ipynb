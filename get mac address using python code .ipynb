{
 "cells": [
  {
   "cell_type": "code",
   "execution_count": 1,
   "metadata": {},
   "outputs": [
    {
     "name": "stdout",
     "output_type": "stream",
     "text": [
      "\n",
      "Method One\n",
      "\n",
      "Method Two\n",
      "\n",
      "Physical Address    Transport Name                                            \n",
      "=================== ==========================================================\n",
      "18-3D-A2-CB-3A-5E   Media disconnected                                        \n",
      "00-FF-AC-1E-EF-B9   Media disconnected                                        \n",
      "20-47-47-4F-29-89   \\Device\\Tcpip_{0E0D4E81-BBCA-4184-9564-DC84A218E7EC}      \n",
      "18-3D-A2-CB-3A-62   Media disconnected                                        \n",
      "\n"
     ]
    }
   ],
   "source": [
    "import os\n",
    "import subprocess\n",
    "\n",
    "\n",
    "class get_MAC_address:\n",
    "    '''Getting all MAC address'''\n",
    "\n",
    "    def __init__(self):\n",
    "        self.command = 'getmac'\n",
    "\n",
    "    def method_one(self):\n",
    "        '''Using os module'''\n",
    "\n",
    "        try:\n",
    "            mac = os.system(self.command).read()\n",
    "            print(mac)\n",
    "\n",
    "        except AttributeError:\n",
    "            pass\n",
    "\n",
    "    def method_two(self):\n",
    "        '''Using subprocess module'''\n",
    "\n",
    "        mac = subprocess.check_output(self.command, encoding='utf-8', creationflags=0x08000000)\n",
    "        print(mac)\n",
    "\n",
    "\n",
    "mac = get_MAC_address()\n",
    "\n",
    "print('\\nMethod One')\n",
    "mac.method_one()\n",
    "\n",
    "print('\\nMethod Two')\n",
    "mac.method_two()"
   ]
  },
  {
   "cell_type": "code",
   "execution_count": null,
   "metadata": {},
   "outputs": [],
   "source": []
  }
 ],
 "metadata": {
  "kernelspec": {
   "display_name": "Python 3",
   "language": "python",
   "name": "python3"
  },
  "language_info": {
   "codemirror_mode": {
    "name": "ipython",
    "version": 3
   },
   "file_extension": ".py",
   "mimetype": "text/x-python",
   "name": "python",
   "nbconvert_exporter": "python",
   "pygments_lexer": "ipython3",
   "version": "3.7.4"
  }
 },
 "nbformat": 4,
 "nbformat_minor": 2
}
